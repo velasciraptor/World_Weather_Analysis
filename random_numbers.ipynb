{
 "cells": [
  {
   "cell_type": "code",
   "execution_count": 1,
   "id": "95fd100d",
   "metadata": {},
   "outputs": [
    {
     "name": "stdout",
     "output_type": "stream",
     "text": [
      "random.random() = 0.2690856587319843\n",
      "random.uniform(-10,10) = -4.3644583838747835\n",
      "random.randint(-10,10) = 5\n",
      "random.randrange(-9,9,2) = 5\n"
     ]
    }
   ],
   "source": [
    "# Import the random  module.\n",
    "import random\n",
    "\n",
    "# random.random() creates random numbers between 0 and 1.\n",
    "print(f\"random.random() = {random.random()}\")\n",
    "\n",
    "# random.uniform(-10,10) same as above but in a certain range.\n",
    "print(f\"random.uniform(-10,10) = {random.uniform(-10,10)}\")\n",
    "\n",
    "# random.randint(-10,10) creates a random integer between 1st and 2nd arguments. Can be = to boundaries.\n",
    "print(f\"random.randint(-10,10) = {random.randint(-10,10)}\")\n",
    "\n",
    "# random.randrange(-9,9,2) same as randint but 3rd arg is amount of step from arg to arg. -9,-7,-5,-3,-1,1,3,5,7,9\n",
    "print(f\"random.randrange(-9,9,2) = {random.randrange(-9,9,2)}\")"
   ]
  },
  {
   "cell_type": "code",
   "execution_count": 2,
   "id": "eede9fba",
   "metadata": {},
   "outputs": [
    {
     "data": {
      "text/plain": [
       "[-71.98960926954616,\n",
       " 6.295964060672244,\n",
       " 16.969073260167825,\n",
       " -52.03274468040316,\n",
       " -37.00460652016668,\n",
       " -49.98336759004287,\n",
       " 16.462938667075914,\n",
       " 25.529494603120412,\n",
       " -4.24980068102509,\n",
       " -33.11178649087276]"
      ]
     },
     "execution_count": 2,
     "metadata": {},
     "output_type": "execute_result"
    }
   ],
   "source": [
    "# generate algorithm for latitudes between -90 and 89.\n",
    "x = 1\n",
    "latitudes = []\n",
    "\n",
    "while x < 11:\n",
    "    random_lat = random.randint(-90, 89) + random.random()\n",
    "    latitudes.append(random_lat)\n",
    "    x += 1\n",
    "    \n",
    "latitudes"
   ]
  },
  {
   "cell_type": "code",
   "execution_count": 3,
   "id": "eeead229",
   "metadata": {},
   "outputs": [
    {
     "name": "stdout",
     "output_type": "stream",
     "text": [
      "13.9 µs ± 203 ns per loop (mean ± std. dev. of 7 runs, 100000 loops each)\n"
     ]
    }
   ],
   "source": [
    "# Instead of using a while loop over and over which takes longer, use an array with numpy.\n",
    "# Import the NumPy module.\n",
    "import numpy as np\n",
    "\n",
    "# Import timeit.\n",
    "import timeit\n",
    "\n",
    "%timeit np.random.uniform(-90.000, 90.000, size=1500)"
   ]
  },
  {
   "cell_type": "code",
   "execution_count": 4,
   "id": "22852207",
   "metadata": {},
   "outputs": [
    {
     "name": "stdout",
     "output_type": "stream",
     "text": [
      "1.91 ms ± 299 µs per loop (mean ± std. dev. of 7 runs, 1000 loops each)\n"
     ]
    }
   ],
   "source": [
    "# Time the while loop now to see the difference.\n",
    "\n",
    "def latitudes(size):\n",
    "    latitudes = []\n",
    "    x = 0\n",
    "    while x < (size):\n",
    "        random_lat = random.randint(-90, 90) + random.random()\n",
    "        latitudes.append(random_lat)\n",
    "        x += 1\n",
    "    return latitudes\n",
    "\n",
    "# Call the function with 1500.\n",
    "%timeit latitudes(1500)\n",
    "\n",
    "#numpy was 100 times faster. 100000 loops each."
   ]
  },
  {
   "cell_type": "code",
   "execution_count": null,
   "id": "d677d3c2",
   "metadata": {},
   "outputs": [],
   "source": []
  }
 ],
 "metadata": {
  "kernelspec": {
   "display_name": "PythonData",
   "language": "python",
   "name": "pythondata"
  },
  "language_info": {
   "codemirror_mode": {
    "name": "ipython",
    "version": 3
   },
   "file_extension": ".py",
   "mimetype": "text/x-python",
   "name": "python",
   "nbconvert_exporter": "python",
   "pygments_lexer": "ipython3",
   "version": "3.7.10"
  }
 },
 "nbformat": 4,
 "nbformat_minor": 5
}
